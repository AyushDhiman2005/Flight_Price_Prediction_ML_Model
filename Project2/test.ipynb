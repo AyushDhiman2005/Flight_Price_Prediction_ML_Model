{
 "cells": [
  {
   "cell_type": "code",
   "execution_count": 1,
   "id": "6bd50ffa-0b54-40d3-b11f-866d21f9fdbe",
   "metadata": {},
   "outputs": [
    {
     "name": "stdout",
     "output_type": "stream",
     "text": [
      "To predict: [1, 1, 2, 1, 2, 1, 23.8, 39]\n"
     ]
    }
   ],
   "source": [
    "import pickle\n",
    "f1=open('model.pkl','rb')\n",
    "chatGPT = pickle.load(f1)\n",
    "import important_functions as impF\n",
    "\n",
    "\n",
    "to_predict = impF.final_y([\"Delhi\",\"Evening\",1,\"Evening\",\"Mumbai\",\"Economy\",23.8,39])\n",
    "print(f\"To predict: {to_predict}\")"
   ]
  },
  {
   "cell_type": "code",
   "execution_count": 10,
   "id": "f0830a75-84ec-4213-b702-ef72847b1972",
   "metadata": {},
   "outputs": [
    {
     "name": "stdout",
     "output_type": "stream",
     "text": [
      "Estimated Ticket Price: Rs. 6139.1\n"
     ]
    },
    {
     "name": "stderr",
     "output_type": "stream",
     "text": [
      "C:\\Users\\Dell\\anaconda3\\Lib\\site-packages\\sklearn\\utils\\validation.py:2739: UserWarning: X does not have valid feature names, but LinearRegression was fitted with feature names\n",
      "  warnings.warn(\n"
     ]
    }
   ],
   "source": [
    "estimated_ticket_price=round(chatGPT.predict([to_predict])[0],1)\n",
    "\n",
    "print(f\"Estimated Ticket Price: Rs. {estimated_ticket_price}\")"
   ]
  },
  {
   "cell_type": "code",
   "execution_count": 7,
   "id": "7a004bfd-8e5f-4135-bf3e-e73da58c147a",
   "metadata": {},
   "outputs": [],
   "source": [
    "import streamlit as st\n"
   ]
  },
  {
   "cell_type": "code",
   "execution_count": null,
   "id": "53eff67d-60da-4870-8621-aba524036fe9",
   "metadata": {},
   "outputs": [],
   "source": []
  }
 ],
 "metadata": {
  "kernelspec": {
   "display_name": "Python [conda env:base] *",
   "language": "python",
   "name": "conda-base-py"
  },
  "language_info": {
   "codemirror_mode": {
    "name": "ipython",
    "version": 3
   },
   "file_extension": ".py",
   "mimetype": "text/x-python",
   "name": "python",
   "nbconvert_exporter": "python",
   "pygments_lexer": "ipython3",
   "version": "3.13.5"
  }
 },
 "nbformat": 4,
 "nbformat_minor": 5
}
